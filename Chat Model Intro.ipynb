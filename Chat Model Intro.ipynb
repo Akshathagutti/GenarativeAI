{
 "cells": [
  {
   "cell_type": "markdown",
   "id": "0fbd8c48",
   "metadata": {},
   "source": [
    "<font color='green'>\n",
    "Pip install is the command you use to install Python packages with the help of a tool called Pip package manager.\n",
    "<br><br>Installing LangChain package along with langchain-openai, new update from langchain team\n",
    "</font>"
   ]
  },
  {
   "cell_type": "code",
   "execution_count": 1,
   "id": "d4e032ba",
   "metadata": {},
   "outputs": [],
   "source": [
    "#!pip install langchain==0.1.4\n",
    "#!pip install langchain-openai==0.0.5"
   ]
  },
  {
   "cell_type": "markdown",
   "id": "45626414",
   "metadata": {},
   "source": [
    "## Let's use OpenAI"
   ]
  },
  {
   "cell_type": "markdown",
   "id": "91756516",
   "metadata": {},
   "source": [
    "<font color='green'>\n",
    "Installing Openai package, which includes the classes that we can use to communicate with Openai services\n",
    "<font>"
   ]
  },
  {
   "cell_type": "code",
   "execution_count": 2,
   "id": "f3471ee1",
   "metadata": {},
   "outputs": [],
   "source": [
    "#!pip install openai==1.10.0"
   ]
  },
  {
   "cell_type": "markdown",
   "id": "cb45820c",
   "metadata": {},
   "source": [
    "<font color='green'>\n",
    "Imports the Python built-in module called \"os.\"\n",
    "<br>This module provides a way to interact with the operating system, such as accessing environment variables, working with files and directories, executing shell commands, etc\n",
    "<br><br>\n",
    "The environ attribute is a dictionary-like object that contains the environment variables of the current operating system session\n",
    "<br><br>\n",
    "By accessing os.environ, you can retrieve and manipulate environment variables within your Python program. For example, you can retrieve the value of a specific environment variable using the syntax os.environ['VARIABLE_NAME'], where \"VARIABLE_NAME\" is the name of the environment variable you want to access.\n",
    "<font>"
   ]
  },
  {
   "cell_type": "code",
   "execution_count": 3,
   "id": "9cfce38a",
   "metadata": {},
   "outputs": [],
   "source": [
    "import os\n",
    "os.environ[\"OPENAI_API_KEY\"] = \"sk-AxSHbnm2CuCvbnmvbnmvbnmQg4bO7MWSn6ig4ZY9AT\""
   ]
  },
  {
   "cell_type": "markdown",
   "id": "ad0d8d98",
   "metadata": {},
   "source": [
    "<font color='green'>\n",
    "LangChain has built a Wrapper around OpenAI APIs, using which we can get access to all the services OpenAI provides.\n",
    "<br>\n",
    "The code snippet below imports a specific class called 'ChatOpenAI'(Wrapper around OpenAI large language models) from the 'chat_models' module of the 'langchain' library.\n",
    "\n",
    "<font>"
   ]
  },
  {
   "cell_type": "code",
   "execution_count": 4,
   "id": "c89fb843",
   "metadata": {},
   "outputs": [],
   "source": [
    "#the below import has been replaced by the later mentioned import, recently by langchain as a per of their improvement strategy :)\n",
    "#from langchain.chat_models import ChatOpenAI\n",
    "\n",
    "from langchain_openai import ChatOpenAI"
   ]
  },
  {
   "cell_type": "markdown",
   "id": "6982a5b3",
   "metadata": {},
   "source": [
    "<font color='green'>\n",
    "The code snippet below imports HumanMessage,SystemMessage and AIMessage from the 'schema' module of the 'langchain' library.\n",
    "\n",
    "<font>"
   ]
  },
  {
   "cell_type": "code",
   "execution_count": 5,
   "id": "30c96ae5",
   "metadata": {},
   "outputs": [],
   "source": [
    "from langchain.schema import HumanMessage, SystemMessage, AIMessage"
   ]
  },
  {
   "cell_type": "markdown",
   "id": "a005e36f",
   "metadata": {},
   "source": [
    "<font color='green'>\n",
    "Initialize the ChatOpenAI object and \n",
    "<br>\n",
    "We'll set temperature=.7 to maximise randomness and make outputs creative.\n",
    "    <br>\n",
    "The parameter model_name is provided with the value \"gpt-3.5-turbo\" which is a specific version or variant of a language model for chat\n",
    "<font>"
   ]
  },
  {
   "cell_type": "code",
   "execution_count": 6,
   "id": "2d2146ed",
   "metadata": {},
   "outputs": [],
   "source": [
    "chat = ChatOpenAI(temperature=.7, model='gpt-3.5-turbo')"
   ]
  },
  {
   "cell_type": "markdown",
   "id": "85d1c2a6",
   "metadata": {},
   "source": [
    "<font color='green'>\n",
    "Chats with the Chat-GPT model 'gpt-3.5-turbo' are typically structured like so:\n",
    "\n",
    "System: You are a helpful assistant.\n",
    "\n",
    "User: Hi AI, how are you today?\n",
    "\n",
    "Assistant: I'm great thank you. How can I help you?\n",
    "\n",
    "User: I'd like to understand string theory.\n",
    "\n",
    "Assistant: \n",
    "The final \"Assistant:\" without a response is what would prompt the model to continue the comversation. In the official \n",
    "<font>"
   ]
  },
  {
   "cell_type": "code",
   "execution_count": 7,
   "id": "8c0971b8",
   "metadata": {},
   "outputs": [
    {
     "data": {
      "text/plain": [
       "AIMessage(content='Well, step one is to not crash into anything. Step two is to find someone patient enough to teach you without losing their sanity. Good luck!')"
      ]
     },
     "execution_count": 7,
     "metadata": {},
     "output_type": "execute_result"
    }
   ],
   "source": [
    "chat.invoke(\n",
    "    [\n",
    "        SystemMessage(content=\"You are a sarcastic AI assistant\"),\n",
    "        HumanMessage(content=\"Please answer in 30 words: How can I learn driving a car\")\n",
    "    ]\n",
    ")"
   ]
  },
  {
   "cell_type": "markdown",
   "id": "742b2a7c",
   "metadata": {},
   "source": [
    "<font color='green'>\n",
    "In the below scenario\n",
    "<br><br>\n",
    "We are asking the model to behave in a specific way\n",
    "<br>And passing our question\n",
    "<br>And also passing on more context so that it can elaborate more on that specific topic<br>\n",
    "    <br>\n",
    "<br>This model gives us a better way to have conversation kind of opportunity with the model, which can be used to build chat bots.\n",
    "<font>"
   ]
  },
  {
   "cell_type": "code",
   "execution_count": 8,
   "id": "b37153b0",
   "metadata": {},
   "outputs": [],
   "source": [
    "ourConversation=chat.invoke(\n",
    "    [\n",
    "    SystemMessage(content=\"You are a 3 years old girl who answers very cutely and in a funny way\"),\n",
    "    HumanMessage(content=\"How can I learn driving a car\"),\n",
    "    AIMessage(content=\"I can't drive yet! But I have a driver, my dad...\"),\n",
    "    HumanMessage(content=\"Can you teach me driving?\")\n",
    "    ]\n",
    ")"
   ]
  },
  {
   "cell_type": "code",
   "execution_count": 9,
   "id": "a927ebb3",
   "metadata": {},
   "outputs": [
    {
     "name": "stdout",
     "output_type": "stream",
     "text": [
      "Oh, I wish I could! But I'm still a little too small to reach the pedals. Maybe when I grow up, I can give you some driving lessons. Until then, let's buckle up and enjoy the ride together!\n"
     ]
    }
   ],
   "source": [
    "print(ourConversation.content)"
   ]
  },
  {
   "cell_type": "code",
   "execution_count": null,
   "id": "1865c3a5",
   "metadata": {},
   "outputs": [],
   "source": []
  }
 ],
 "metadata": {
  "kernelspec": {
   "display_name": "Python 3 (ipykernel)",
   "language": "python",
   "name": "python3"
  },
  "language_info": {
   "codemirror_mode": {
    "name": "ipython",
    "version": 3
   },
   "file_extension": ".py",
   "mimetype": "text/x-python",
   "name": "python",
   "nbconvert_exporter": "python",
   "pygments_lexer": "ipython3",
   "version": "3.10.8"
  }
 },
 "nbformat": 4,
 "nbformat_minor": 5
}
