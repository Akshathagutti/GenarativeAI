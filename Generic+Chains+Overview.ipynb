{
 "cells": [
  {
   "cell_type": "markdown",
   "id": "336b9395",
   "metadata": {},
   "source": [
    "# Generic Chains Overview"
   ]
  },
  {
   "cell_type": "markdown",
   "id": "1dcb42ef",
   "metadata": {},
   "source": [
    "## Simple Chain"
   ]
  },
  {
   "cell_type": "markdown",
   "id": "0b094e82",
   "metadata": {},
   "source": [
    "<font color='green'>\n",
    "The most elementary type of chain is known as a basic chain, which represents the simplest form of crafting a chain. <br>In this setup, there is only one Language Model (LLM) responsible for receiving an input prompt and using it for generating text.\n",
    "<font>"
   ]
  },
  {
   "cell_type": "code",
   "execution_count": 1,
   "id": "43b5cfff",
   "metadata": {},
   "outputs": [],
   "source": [
    "#Please install the package as per your requirement :)\n",
    "#!pip install openai==1.10.0\n",
    "#!pip install langchain==0.1.4\n",
    "#!pip install huggingface-hub==0.20.3\n",
    "#!pip install langchain-openai==0.0.5"
   ]
  },
  {
   "cell_type": "code",
   "execution_count": 2,
   "id": "6b36c04f",
   "metadata": {},
   "outputs": [],
   "source": [
    "import os\n",
    "os.environ[\"OPENAI_API_KEY\"] = \"sk-57VdfdfffsgdfgdfgfdcEGlg84ChPpsTIqno2\"\n",
    "os.environ[\"HUGGINGFACEHUB_API_TOKEN\"] = \"hf_cocFI44444gbbbbbbddgRrTXvQsLSVwQ\""
   ]
  },
  {
   "cell_type": "code",
   "execution_count": 3,
   "id": "a8d7c528",
   "metadata": {},
   "outputs": [],
   "source": [
    "#The below import has been replaced by the later one\n",
    "#from langchain.llms import OpenAI\n",
    "from langchain_openai import OpenAI\n",
    "from langchain.prompts import PromptTemplate\n",
    "from langchain.chains import LLMChain"
   ]
  },
  {
   "cell_type": "code",
   "execution_count": 4,
   "id": "5547ab07",
   "metadata": {},
   "outputs": [],
   "source": [
    "llm = OpenAI()"
   ]
  },
  {
   "cell_type": "code",
   "execution_count": 5,
   "id": "436017aa",
   "metadata": {},
   "outputs": [],
   "source": [
    "prompt = PromptTemplate(\n",
    "    input_variables=[\"place\"],\n",
    "    template=\"Best places to visit in {place}?\",\n",
    ")"
   ]
  },
  {
   "cell_type": "code",
   "execution_count": 6,
   "id": "2477a555",
   "metadata": {},
   "outputs": [
    {
     "name": "stdout",
     "output_type": "stream",
     "text": [
      "{'place': 'India', 'text': '\\n\\n1. The Taj Mahal, Agra\\n2. The Golden Temple, Amritsar\\n3. The beaches of Goa\\n4. The backwaters of Kerala\\n5. The forts and palaces of Rajasthan\\n6. The hill stations of Shimla and Manali\\n7. The wildlife sanctuaries of Ranthambore or Jim Corbett\\n8. The ancient ruins of Hampi\\n9. The holy city of Varanasi\\n10. The vibrant city of Mumbai\\n11. The tea plantations of Darjeeling\\n12. The deserts of Jaisalmer\\n13. The spiritual town of Rishikesh\\n14. The beaches and temples of Puri, Odisha\\n15. The colonial charm of Kolkata.\\n'}\n"
     ]
    }
   ],
   "source": [
    "chain = LLMChain(llm=llm, prompt=prompt)\n",
    "\n",
    "# Run the chain only specifying the input variable.\n",
    "# Recently langchain has replaced 'run' function with 'invoke'\n",
    "print(chain.invoke(\"India\"))"
   ]
  },
  {
   "cell_type": "markdown",
   "id": "c88205e2",
   "metadata": {},
   "source": [
    "## Simple Sequential Chains"
   ]
  },
  {
   "cell_type": "markdown",
   "id": "4eb1850c",
   "metadata": {},
   "source": [
    "<font color='green'>\n",
    "Sequential Chains involves making a series of consecutive calls to the language model.<br> This approach proves especially valuable when there is a need to utilize the output generated from one call as the input for another call.\n",
    "<font>"
   ]
  },
  {
   "cell_type": "code",
   "execution_count": 7,
   "id": "76654563",
   "metadata": {},
   "outputs": [],
   "source": [
    "from langchain.chains import SimpleSequentialChain\n",
    "from langchain import HuggingFaceHub"
   ]
  },
  {
   "cell_type": "code",
   "execution_count": 8,
   "id": "92f94dc5",
   "metadata": {},
   "outputs": [],
   "source": [
    "template = \"\"\"You have to suggest 5 best places to visit in {place}?\n",
    "\n",
    "YOUR RESPONSE:\n",
    "\"\"\"\n",
    "prompt_template = PromptTemplate(\n",
    "    input_variables=[\"place\"], \n",
    "    template=template)"
   ]
  },
  {
   "cell_type": "code",
   "execution_count": 9,
   "id": "77104326",
   "metadata": {},
   "outputs": [
    {
     "name": "stderr",
     "output_type": "stream",
     "text": [
      "c:\\Users\\User\\Videos\\Movavi Library\\LangChain\\Chains Module\\myvenv\\lib\\site-packages\\tqdm\\auto.py:21: TqdmWarning: IProgress not found. Please update jupyter and ipywidgets. See https://ipywidgets.readthedocs.io/en/stable/user_install.html\n",
      "  from .autonotebook import tqdm as notebook_tqdm\n"
     ]
    }
   ],
   "source": [
    "HF_llm= HuggingFaceHub(repo_id = \"google/flan-t5-large\")"
   ]
  },
  {
   "cell_type": "code",
   "execution_count": 10,
   "id": "2578b568",
   "metadata": {},
   "outputs": [],
   "source": [
    "#llm = OpenAI()"
   ]
  },
  {
   "cell_type": "code",
   "execution_count": 11,
   "id": "aa350baf",
   "metadata": {},
   "outputs": [],
   "source": [
    "place_chain = LLMChain(llm=llm, prompt=prompt_template)"
   ]
  },
  {
   "cell_type": "code",
   "execution_count": 12,
   "id": "d4ea5942",
   "metadata": {},
   "outputs": [],
   "source": [
    "template = \"\"\"Given a list a places, please estimate the expenses to visit all of them in local currency and also the days needed\n",
    "{expenses}\n",
    "\n",
    "YOUR RESPONSE:\n",
    "\"\"\"\n",
    "prompt_template = PromptTemplate(\n",
    "    input_variables=[\"expenses\"],\n",
    "    template=template)"
   ]
  },
  {
   "cell_type": "code",
   "execution_count": 13,
   "id": "61ca518d",
   "metadata": {},
   "outputs": [],
   "source": [
    "llm = OpenAI()"
   ]
  },
  {
   "cell_type": "code",
   "execution_count": 14,
   "id": "ef315099",
   "metadata": {},
   "outputs": [],
   "source": [
    "expenses_chain = LLMChain(llm=llm, prompt=prompt_template)"
   ]
  },
  {
   "cell_type": "code",
   "execution_count": 15,
   "id": "16e97f98",
   "metadata": {},
   "outputs": [],
   "source": [
    "final_chain = SimpleSequentialChain(chains=[place_chain, expenses_chain], verbose=True)"
   ]
  },
  {
   "cell_type": "code",
   "execution_count": 16,
   "id": "98487cc4",
   "metadata": {},
   "outputs": [
    {
     "name": "stdout",
     "output_type": "stream",
     "text": [
      "\n",
      "\n",
      "\u001b[1m> Entering new SimpleSequentialChain chain...\u001b[0m\n",
      "\u001b[36;1m\u001b[1;3m1) The Taj Mahal in Agra, Uttar Pradesh - one of the Seven Wonders of the World and a symbol of love and architectural beauty.\n",
      "2) The Golden Temple in Amritsar, Punjab - a holy site for Sikhs and a stunning example of Sikh architecture.\n",
      "3) The beaches of Goa - known for their white sands, clear blue waters, and vibrant nightlife.\n",
      "4) The backwaters of Kerala - a network of interconnected canals, rivers, and lakes that offer a serene and picturesque view of the state.\n",
      "5) The city of Jaipur, Rajasthan - also known as the \"Pink City\" for its stunning pink-hued buildings and rich cultural heritage, including palaces and forts.\u001b[0m\n",
      "\u001b[33;1m\u001b[1;3m\n",
      "1) The Taj Mahal in Agra, Uttar Pradesh:\n",
      "- Estimated expenses: 1000 INR for entry fee + 1000 INR for transportation and food = 2000 INR (approximately $27.50 USD)\n",
      "- Days needed: 1 day\n",
      "\n",
      "2) The Golden Temple in Amritsar, Punjab:\n",
      "- Estimated expenses: 0 INR (free entry) + 500 INR for transportation and food = 500 INR (approximately $6.85 USD)\n",
      "- Days needed: 1 day\n",
      "\n",
      "3) The beaches of Goa:\n",
      "- Estimated expenses: 500 INR for transportation + 2000 INR for food and accommodation per day (for 3 days) = 6500 INR (approximately $89.20 USD)\n",
      "- Days needed: 3 days\n",
      "\n",
      "4) The backwaters of Kerala:\n",
      "- Estimated expenses: 2000 INR for transportation + 3000 INR for food and accommodation per day (for 2 days) = 8000 INR (approximately $109.80 USD)\n",
      "- Days needed: 2 days\n",
      "\n",
      "5) The city of Jaipur, Rajasthan:\n",
      "- Estimated expenses: 500 INR for entry fees + 2000 INR for\u001b[0m\n",
      "\n",
      "\u001b[1m> Finished chain.\u001b[0m\n"
     ]
    }
   ],
   "source": [
    "review = final_chain.invoke(\"India\")"
   ]
  },
  {
   "cell_type": "code",
   "execution_count": null,
   "id": "a2c09bca",
   "metadata": {},
   "outputs": [],
   "source": []
  }
 ],
 "metadata": {
  "kernelspec": {
   "display_name": "Python 3 (ipykernel)",
   "language": "python",
   "name": "python3"
  },
  "language_info": {
   "codemirror_mode": {
    "name": "ipython",
    "version": 3
   },
   "file_extension": ".py",
   "mimetype": "text/x-python",
   "name": "python",
   "nbconvert_exporter": "python",
   "pygments_lexer": "ipython3",
   "version": "3.10.8"
  }
 },
 "nbformat": 4,
 "nbformat_minor": 5
}
